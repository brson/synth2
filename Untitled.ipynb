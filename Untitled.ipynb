{
 "cells": [
  {
   "cell_type": "code",
   "execution_count": 14,
   "id": "c7f33d36-4b9b-4a33-bba1-3e858896f5a2",
   "metadata": {},
   "outputs": [],
   "source": [
    "def line_y_value(\n",
    "    y_rise, x_run, x_value\n",
    "):\n",
    "    slope = y_rise / x_run\n",
    "    y_value = slope * x_value\n",
    "    return y_value\n",
    "\n",
    "def line_y_value_with_y_offset(\n",
    "    y_rise, x_run, x_value, y_offset\n",
    "):\n",
    "    y_value = line_y_value(y_rise, x_run, x_value)\n",
    "    return y_value + y_offset"
   ]
  },
  {
   "cell_type": "code",
   "execution_count": 24,
   "id": "e50923a2-f07f-4e73-91f3-0eb5b5eed862",
   "metadata": {},
   "outputs": [],
   "source": [
    "import sys\n",
    "\n",
    "class Adsr:\n",
    "    def __init__(self, attack, decay, sustain, release):\n",
    "        self.attack = attack\n",
    "        self.decay = decay\n",
    "        self.sustain = sustain\n",
    "        self.release = release\n",
    "        \n",
    "    def sample(self, offset, release_offset = None):            \n",
    "        attack = self.attack\n",
    "        decay = self.decay\n",
    "        sustain = self.sustain\n",
    "        release = self.release\n",
    "        \n",
    "        decay_offset = attack\n",
    "        sustain_offset = attack + decay\n",
    "        if not release_offset:\n",
    "            release_offset = sys.float_info.max\n",
    "        end_offset = release_offset + release\n",
    "        \n",
    "        def which_stage():\n",
    "            in_attack = offset < decay_offset\n",
    "            in_decay = not in_attack and offset < sustain_offset\n",
    "            in_sustain = not in_attack and not in_decay and offset < release_offset\n",
    "            in_release = not in_attack and not in_decay and not in_sustain and offset < end_offset\n",
    "            \n",
    "            if in_attack:\n",
    "                return \"attack\"\n",
    "            if in_decay:\n",
    "                return \"decay\"\n",
    "            if in_sustain:\n",
    "                return \"sustain\"\n",
    "            if in_release:\n",
    "                return \"release\"\n",
    "            return \"end\"\n",
    "        \n",
    "        stage = which_stage()\n",
    "        \n",
    "        if stage == \"attack\":\n",
    "            rise = 1.0\n",
    "            run = attack\n",
    "            x_offset = offset\n",
    "            y_start = 0.0\n",
    "            return line_y_value_with_y_offset(\n",
    "                rise, run, x_offset, y_start\n",
    "            )\n",
    "        elif stage == \"decay\":\n",
    "            rise = sustain - 1.0\n",
    "            run = decay\n",
    "            x_offset = offset - decay_offset\n",
    "            y_start = 1.0\n",
    "            return line_y_value_with_y_offset(\n",
    "                rise, run, y_offset, y_start\n",
    "            )\n",
    "        elif stage == \"sustain\":\n",
    "            return sustain\n",
    "        elif stage == \"release\":\n",
    "            rise = -sustain\n",
    "            run = release\n",
    "            x_offset = offset - release_offset\n",
    "            y_start = sustain\n",
    "            return line_y_value_with_y_offset(\n",
    "                rise, run, x_offset, y_start\n",
    "            )\n",
    "        else:\n",
    "            return 0.0\n",
    "                \n",
    "        "
   ]
  },
  {
   "cell_type": "code",
   "execution_count": 26,
   "id": "f6eeabee-ddc7-49a0-b18d-c30601a6413d",
   "metadata": {},
   "outputs": [
    {
     "ename": "NameError",
     "evalue": "name 'y_offset' is not defined",
     "output_type": "error",
     "traceback": [
      "\u001b[0;31m---------------------------------------------------------------------------\u001b[0m",
      "\u001b[0;31mNameError\u001b[0m                                 Traceback (most recent call last)",
      "Input \u001b[0;32mIn [26]\u001b[0m, in \u001b[0;36m<cell line: 2>\u001b[0;34m()\u001b[0m\n\u001b[1;32m      1\u001b[0m adsr \u001b[38;5;241m=\u001b[39m Adsr(\u001b[38;5;241m1\u001b[39m, \u001b[38;5;241m100\u001b[39m, \u001b[38;5;241m0.5\u001b[39m, \u001b[38;5;241m1\u001b[39m)\n\u001b[0;32m----> 2\u001b[0m \u001b[43madsr\u001b[49m\u001b[38;5;241;43m.\u001b[39;49m\u001b[43msample\u001b[49m\u001b[43m(\u001b[49m\u001b[38;5;241;43m10\u001b[39;49m\u001b[43m)\u001b[49m\n",
      "Input \u001b[0;32mIn [24]\u001b[0m, in \u001b[0;36mAdsr.sample\u001b[0;34m(self, offset, release_offset)\u001b[0m\n\u001b[1;32m     51\u001b[0m     x_offset \u001b[38;5;241m=\u001b[39m offset \u001b[38;5;241m-\u001b[39m decay_offset\n\u001b[1;32m     52\u001b[0m     y_start \u001b[38;5;241m=\u001b[39m \u001b[38;5;241m1.0\u001b[39m\n\u001b[1;32m     53\u001b[0m     \u001b[38;5;28;01mreturn\u001b[39;00m line_y_value_with_y_offset(\n\u001b[0;32m---> 54\u001b[0m         rise, run, \u001b[43my_offset\u001b[49m, y_start\n\u001b[1;32m     55\u001b[0m     )\n\u001b[1;32m     56\u001b[0m \u001b[38;5;28;01melif\u001b[39;00m stage \u001b[38;5;241m==\u001b[39m \u001b[38;5;124m\"\u001b[39m\u001b[38;5;124msustain\u001b[39m\u001b[38;5;124m\"\u001b[39m:\n\u001b[1;32m     57\u001b[0m     \u001b[38;5;28;01mreturn\u001b[39;00m sustain\n",
      "\u001b[0;31mNameError\u001b[0m: name 'y_offset' is not defined"
     ]
    }
   ],
   "source": [
    "adsr = Adsr(1, 100, 0.5, 1)\n",
    "adsr.sample(10)"
   ]
  },
  {
   "cell_type": "code",
   "execution_count": null,
   "id": "8ab77c1e-97fe-4d40-bb58-e6300fa24201",
   "metadata": {},
   "outputs": [],
   "source": []
  }
 ],
 "metadata": {
  "kernelspec": {
   "display_name": "Python 3 (ipykernel)",
   "language": "python",
   "name": "python3"
  },
  "language_info": {
   "codemirror_mode": {
    "name": "ipython",
    "version": 3
   },
   "file_extension": ".py",
   "mimetype": "text/x-python",
   "name": "python",
   "nbconvert_exporter": "python",
   "pygments_lexer": "ipython3",
   "version": "3.8.10"
  }
 },
 "nbformat": 4,
 "nbformat_minor": 5
}
