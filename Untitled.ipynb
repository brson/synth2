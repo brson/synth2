{
 "cells": [
  {
   "cell_type": "code",
   "execution_count": 14,
   "id": "c7f33d36-4b9b-4a33-bba1-3e858896f5a2",
   "metadata": {},
   "outputs": [],
   "source": [
    "def line_y_value(\n",
    "    y_rise, x_run, x_value\n",
    "):\n",
    "    slope = y_rise / x_run\n",
    "    y_value = slope * x_value\n",
    "    return y_value\n",
    "\n",
    "def line_y_value_with_y_offset(\n",
    "    y_rise, x_run, x_value, y_offset\n",
    "):\n",
    "    y_value = line_y_value(y_rise, x_run, x_value)\n",
    "    return y_value + y_offset"
   ]
  },
  {
   "cell_type": "code",
   "execution_count": 21,
   "id": "e50923a2-f07f-4e73-91f3-0eb5b5eed862",
   "metadata": {},
   "outputs": [],
   "source": [
    "import sys\n",
    "\n",
    "class Adsr:\n",
    "    def __init__(self, attack, decay, sustain, release):\n",
    "        self.attack = attack\n",
    "        self.decay = decay\n",
    "        self.sustain = sustain\n",
    "        self.release = release\n",
    "        \n",
    "    def sample(self, offset, release_offset = None):            \n",
    "        attack = self.attack\n",
    "        decay = self.decay\n",
    "        sustain = self.sustain\n",
    "        release = self.release\n",
    "        \n",
    "        decay_offset = attack\n",
    "        sustain_offset = attack + decay\n",
    "        if not release_offset:\n",
    "            release_offset = sys.float_info.max\n",
    "        end_offset = release_offset + release\n",
    "        \n",
    "        def which_stage():\n",
    "            in_attack = offset < decay_offset\n",
    "            in_decay = not in_attack and offset < sustain_offset\n",
    "            in_sustain = not in_attack and not in_decay and offset < release_offset\n",
    "            in_release = not in_attack and not in_decay and not in_sustain and offset < end_offset\n",
    "            \n",
    "            if in_attack:\n",
    "                return \"attack\"\n",
    "            if in_decay:\n",
    "                return \"decay\"\n",
    "            if in_sustain:\n",
    "                return \"sustain\"\n",
    "            if in_release:\n",
    "                return \"release\"\n",
    "            return \"end\"\n",
    "        \n",
    "        stage = which_stage()\n",
    "        \n",
    "        return 3.0\n",
    "        "
   ]
  },
  {
   "cell_type": "code",
   "execution_count": 22,
   "id": "f6eeabee-ddc7-49a0-b18d-c30601a6413d",
   "metadata": {},
   "outputs": [
    {
     "data": {
      "text/plain": [
       "3.0"
      ]
     },
     "execution_count": 22,
     "metadata": {},
     "output_type": "execute_result"
    }
   ],
   "source": [
    "adsr = Adsr(1, 1, 1, 1)\n",
    "adsr.sample(10)"
   ]
  },
  {
   "cell_type": "code",
   "execution_count": null,
   "id": "8ab77c1e-97fe-4d40-bb58-e6300fa24201",
   "metadata": {},
   "outputs": [],
   "source": []
  }
 ],
 "metadata": {
  "kernelspec": {
   "display_name": "Python 3 (ipykernel)",
   "language": "python",
   "name": "python3"
  },
  "language_info": {
   "codemirror_mode": {
    "name": "ipython",
    "version": 3
   },
   "file_extension": ".py",
   "mimetype": "text/x-python",
   "name": "python",
   "nbconvert_exporter": "python",
   "pygments_lexer": "ipython3",
   "version": "3.8.10"
  }
 },
 "nbformat": 4,
 "nbformat_minor": 5
}
