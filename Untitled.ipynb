{
 "cells": [
  {
   "cell_type": "code",
   "execution_count": 10,
   "id": "c7f33d36-4b9b-4a33-bba1-3e858896f5a2",
   "metadata": {},
   "outputs": [],
   "source": [
    "def line_y_value(\n",
    "    y_rise, x_run, x_value\n",
    "):\n",
    "    slope = y_rise / x_run\n",
    "    y_value = slope * x_value\n",
    "    return y_value\n",
    "\n",
    "def line_y_value_with_y_offset(\n",
    "    y_rise, x_run, x_value, y_offset\n",
    "):\n",
    "    y_value = line_y_value(y_rise, x_run, x_value)\n",
    "    return y_value + y_offset"
   ]
  },
  {
   "cell_type": "code",
   "execution_count": 11,
   "id": "e50923a2-f07f-4e73-91f3-0eb5b5eed862",
   "metadata": {},
   "outputs": [],
   "source": [
    "import sys\n",
    "\n",
    "class Adsr:\n",
    "    def __init__(self, attack, decay, sustain, release):\n",
    "        self.attack = attack\n",
    "        self.decay = decay\n",
    "        self.sustain = sustain\n",
    "        self.release = release\n",
    "        \n",
    "    def sample(self, offset, release_offset = None):            \n",
    "        attack = self.attack\n",
    "        decay = self.decay\n",
    "        sustain = self.sustain\n",
    "        release = self.release\n",
    "        \n",
    "        decay_offset = attack\n",
    "        sustain_offset = attack + decay\n",
    "        if not release_offset:\n",
    "            release_offset = sys.float_info.max\n",
    "        end_offset = release_offset + release\n",
    "        \n",
    "        def which_stage():\n",
    "            in_attack = offset < decay_offset\n",
    "            in_decay = not in_attack and offset < sustain_offset\n",
    "            in_sustain = not in_attack and not in_decay and offset < release_offset\n",
    "            in_release = not in_attack and not in_decay and not in_sustain and offset < end_offset\n",
    "            \n",
    "            if in_attack:\n",
    "                return \"attack\"\n",
    "            if in_decay:\n",
    "                return \"decay\"\n",
    "            if in_sustain:\n",
    "                return \"sustain\"\n",
    "            if in_release:\n",
    "                return \"release\"\n",
    "            return \"end\"\n",
    "        \n",
    "        stage = which_stage()\n",
    "        \n",
    "        if stage == \"attack\":\n",
    "            rise = 1.0\n",
    "            run = attack\n",
    "            x_offset = offset\n",
    "            y_start = 0.0\n",
    "            return line_y_value_with_y_offset(\n",
    "                rise, run, x_offset, y_start\n",
    "            )\n",
    "        elif stage == \"decay\":\n",
    "            rise = sustain - 1.0\n",
    "            run = decay\n",
    "            x_offset = offset - decay_offset\n",
    "            y_start = 1.0\n",
    "            return line_y_value_with_y_offset(\n",
    "                rise, run, x_offset, y_start\n",
    "            )\n",
    "        elif stage == \"sustain\":\n",
    "            return sustain\n",
    "        elif stage == \"release\":\n",
    "            rise = -sustain\n",
    "            run = release\n",
    "            x_offset = offset - release_offset\n",
    "            y_start = sustain\n",
    "            return line_y_value_with_y_offset(\n",
    "                rise, run, x_offset, y_start\n",
    "            )\n",
    "        else:\n",
    "            return 0.0\n",
    "                \n",
    "        "
   ]
  },
  {
   "cell_type": "code",
   "execution_count": 12,
   "id": "f6eeabee-ddc7-49a0-b18d-c30601a6413d",
   "metadata": {},
   "outputs": [
    {
     "data": {
      "text/plain": [
       "0.955"
      ]
     },
     "execution_count": 12,
     "metadata": {},
     "output_type": "execute_result"
    }
   ],
   "source": [
    "adsr = Adsr(1, 100, 0.5, 1)\n",
    "adsr.sample(10)"
   ]
  },
  {
   "cell_type": "code",
   "execution_count": 13,
   "id": "8ab77c1e-97fe-4d40-bb58-e6300fa24201",
   "metadata": {},
   "outputs": [],
   "source": [
    "def modulate_freq(freq, modulation_sample, modulation_amount):\n",
    "    modulation_amount2 = modulation_sample * modulation_amount\n",
    "    freq = pow(2, modulation_amount2) * freq\n",
    "    return freq"
   ]
  },
  {
   "cell_type": "code",
   "execution_count": 21,
   "id": "fdc77428-cb0d-42c1-907e-14750c1e805e",
   "metadata": {},
   "outputs": [
    {
     "name": "stdout",
     "output_type": "stream",
     "text": [
      "[1.0, 0.9, 0.8, 0.7, 0.6, 0.5, 0.3999999999999999, 0.29999999999999993, 0.19999999999999996, 0.09999999999999998]\n",
      "[0, 0, 0, 0, 0, 0, 0, 0, 0, 0]\n",
      "[0, 0, 0, 0, 0, 0, 0, 0, 0, 0]\n",
      "[0.0, 0.0, 0.0, 0.0, 0.0, 0.0, 0.0, 0.0, 0.0, 0.0]\n",
      "\n",
      "[200.0, 186.60659830736148, 174.11011265922482, 162.4504792712471, 151.5716566510398, 141.4213562373095, 131.9507910772894, 123.11444133449163, 114.86983549970348, 107.17734625362931]\n",
      "[100.0, 100.0, 100.0, 100.0, 100.0, 100.0, 100.0, 100.0, 100.0, 100.0]\n",
      "[100.0, 100.0, 100.0, 100.0, 100.0, 100.0, 100.0, 100.0, 100.0, 100.0]\n",
      "[100.0, 100.0, 100.0, 100.0, 100.0, 100.0, 100.0, 100.0, 100.0, 100.0]\n"
     ]
    }
   ],
   "source": [
    "adsr = Adsr(0, 10, 0, 10)\n",
    "env_samples = [adsr.sample(v, 30) for v in range(40)]\n",
    "print(env_samples[0:10])\n",
    "print(env_samples[10:20])\n",
    "print(env_samples[20:30])\n",
    "print(env_samples[30:40])\n",
    "print()\n",
    "freq = 100\n",
    "freq_samples = [modulate_freq(freq, mod, 1.0) for mod in env_samples]\n",
    "print(freq_samples[0:10])\n",
    "print(freq_samples[10:20])\n",
    "print(freq_samples[20:30])\n",
    "print(freq_samples[30:40])\n"
   ]
  },
  {
   "cell_type": "code",
   "execution_count": null,
   "id": "f2acb28b-55bc-4831-8fa7-bad6491a7ad9",
   "metadata": {},
   "outputs": [],
   "source": []
  }
 ],
 "metadata": {
  "kernelspec": {
   "display_name": "Python 3 (ipykernel)",
   "language": "python",
   "name": "python3"
  },
  "language_info": {
   "codemirror_mode": {
    "name": "ipython",
    "version": 3
   },
   "file_extension": ".py",
   "mimetype": "text/x-python",
   "name": "python",
   "nbconvert_exporter": "python",
   "pygments_lexer": "ipython3",
   "version": "3.8.10"
  }
 },
 "nbformat": 4,
 "nbformat_minor": 5
}
