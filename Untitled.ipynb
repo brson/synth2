{
 "cells": [
  {
   "cell_type": "code",
   "execution_count": 11,
   "id": "c7f33d36-4b9b-4a33-bba1-3e858896f5a2",
   "metadata": {},
   "outputs": [],
   "source": [
    "def line_y_value(\n",
    "    y_rise, x_run, x_value\n",
    "):\n",
    "    slope = y_rise / x_run\n",
    "    y_value = slope * x_value\n",
    "    return y_value\n",
    "\n",
    "def line_y_value_with_y_offset(\n",
    "    y_rise, x_run, x_value, y_offset\n",
    "):\n",
    "    y_value = line_y_value(y_rise, x_run, x_value)\n",
    "    return y_value + y_offset"
   ]
  },
  {
   "cell_type": "code",
   "execution_count": 9,
   "id": "e50923a2-f07f-4e73-91f3-0eb5b5eed862",
   "metadata": {},
   "outputs": [],
   "source": [
    "class Adsr:\n",
    "    def __init__(attack, decay, sustain, release):\n",
    "        self.attack = attack\n",
    "        self.decay = decay\n",
    "        self.sustain = sustain\n",
    "        self.release = release\n",
    "        \n",
    "    def sample(offset, release_offset):\n",
    "        if not release_offset:\n",
    "            release_offset = 10000000.0\n",
    "            \n",
    "        attack = self.attack\n",
    "        decay = self.decay\n",
    "        sustain = self.sustain\n",
    "        release = self.release\n",
    "        \n",
    "        return 1.0"
   ]
  },
  {
   "cell_type": "code",
   "execution_count": null,
   "id": "f6eeabee-ddc7-49a0-b18d-c30601a6413d",
   "metadata": {},
   "outputs": [],
   "source": []
  }
 ],
 "metadata": {
  "kernelspec": {
   "display_name": "Python 3 (ipykernel)",
   "language": "python",
   "name": "python3"
  },
  "language_info": {
   "codemirror_mode": {
    "name": "ipython",
    "version": 3
   },
   "file_extension": ".py",
   "mimetype": "text/x-python",
   "name": "python",
   "nbconvert_exporter": "python",
   "pygments_lexer": "ipython3",
   "version": "3.8.10"
  }
 },
 "nbformat": 4,
 "nbformat_minor": 5
}
